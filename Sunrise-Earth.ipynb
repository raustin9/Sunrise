{
 "cells": [
  {
   "cell_type": "code",
   "execution_count": null,
   "id": "8988a289",
   "metadata": {
    "ExecuteTime": {
     "start_time": "2023-08-16T22:51:35.412Z"
    }
   },
   "outputs": [],
   "source": [
    "%cd ~/src/Sunrise-Demo/\n",
    "from __future__ import annotations\n",
    "try:\n",
    "    from mediocreatbest import auto, run\n",
    "except ImportError:\n",
    "    %pip install --quiet --upgrade pip\n",
    "    %pip install --upgrade --force-reinstall \\\n",
    "        mediocreatbest@git+https://gist.github.com/player1537/3457b026ed6ef6696d758517f55a58df.git\n",
    "from mediocreatbest import auto, run\n"
   ]
  },
  {
   "cell_type": "markdown",
   "id": "eaf55110",
   "metadata": {},
   "source": [
    "## Setup"
   ]
  },
  {
   "cell_type": "markdown",
   "id": "ed135ea4",
   "metadata": {},
   "source": []
  },
  {
   "cell_type": "code",
   "execution_count": null,
   "id": "22ac97e3",
   "metadata": {
    "ExecuteTime": {
     "end_time": "2023-08-16T17:03:13.608025Z",
     "start_time": "2023-08-16T17:03:13.433756Z"
    }
   },
   "outputs": [],
   "source": [
    "%%scope\n",
    "def string_function(arr):\n",
    "    name = arr.__class__.__name__\n",
    "    if arr.size < 1024:\n",
    "        values = auto.numpy.array_repr(auto.numpy.ravel(arr))\n",
    "    else:\n",
    "        values = '...'\n",
    "        \n",
    "    shape = auto.numpy.shape(arr)\n",
    "    dtype = arr.dtype\n",
    "    return f'{name}({values}, {shape=!r}, {dtype=!r})'\n",
    "auto.numpy.set_string_function(string_function, repr=False)\n",
    "auto.numpy.set_string_function(string_function, repr=True)\n",
    "\n",
    "auto.numpy.set_printoptions(\n",
    "    threshold=4,\n",
    "    edgeitems=0,\n",
    ")"
   ]
  },
  {
   "cell_type": "markdown",
   "id": "545d8e35",
   "metadata": {},
   "source": [
    "### Typing"
   ]
  },
  {
   "cell_type": "code",
   "execution_count": null,
   "id": "8b501e17",
   "metadata": {
    "ExecuteTime": {
     "end_time": "2023-08-16T17:03:13.613481Z",
     "start_time": "2023-08-16T17:03:13.610415Z"
    }
   },
   "outputs": [],
   "source": [
    "Degree = auto.typing.NewType('Degree', float)\n",
    "Radian = auto.typing.NewType('Radian', float)\n",
    "Meter = auto.typing.NewType('Meter', float)\n",
    "Kilometer = auto.typing.NewType('Kilometer', float)"
   ]
  },
  {
   "cell_type": "markdown",
   "id": "404d2bc7",
   "metadata": {
    "ExecuteTime": {
     "end_time": "2023-08-15T21:06:47.748725Z",
     "start_time": "2023-08-15T21:06:47.744400Z"
    }
   },
   "source": [
    "### Location (lat, lng, alt) to spatial (x, y, z)"
   ]
  },
  {
   "cell_type": "code",
   "execution_count": null,
   "id": "a0dc7442",
   "metadata": {
    "ExecuteTime": {
     "end_time": "2023-08-16T17:03:13.623809Z",
     "start_time": "2023-08-16T17:03:13.615368Z"
    }
   },
   "outputs": [],
   "source": [
    "def convert_location_to_spatial(\n",
    "    *,\n",
    "    lat: Degree,\n",
    "    lng: Degree,\n",
    "    alt: Meter,\n",
    "    math=auto.math,\n",
    ") -> Tuple[Meter, Meter, Meter]:\n",
    "    # Thanks https://gis.stackexchange.com/a/4148\n",
    "    \n",
    "    #> Note that \"Lat/Lon/Alt\" is just another name for spherical coordinates, and \n",
    "    #> phi/theta/rho are just another name for latitude, longitude, and altitude.\n",
    "    #> :) (A minor difference: altitude is usually measured from the surface of the \n",
    "    #> sphere; rho is measured from the center -- to convert, just add/subtract the \n",
    "    #> radius of the sphere.)\n",
    "    phi: Radian = math.radians(lat)\n",
    "    theta: Radian = math.radians(lng)\n",
    "    \n",
    "    # Thanks https://en.wikipedia.org/wiki/Earth_radius\n",
    "    #> A globally-average value is usually considered to be 6,371 kilometres (3,959 mi)\n",
    "    rho: Meter = 6_371_000 + alt\n",
    "    \n",
    "    #> x = math.cos(phi) * math.cos(theta) * rho\n",
    "    x: Meter = math.cos(phi) * math.cos(theta) * rho\n",
    "    \n",
    "    #> y = math.cos(phi) * math.sin(theta) * rho\n",
    "    y: Meter = math.cos(phi) * math.sin(theta) * rho\n",
    "\n",
    "    #> z = math.sin(phi) * rho # z is 'up'\n",
    "    z: Meter = math.sin(phi) * rho\n",
    "    \n",
    "    #> (Note there's some slightly arbitrary choices here in what each axis means...\n",
    "    #> you might want 'y' to point at the north pole instead of 'z', for example.)\n",
    "    \n",
    "    # I do :)\n",
    "    y, z = z, y\n",
    "    \n",
    "    return x, y, z"
   ]
  },
  {
   "cell_type": "markdown",
   "id": "9b2b2f26",
   "metadata": {},
   "source": [
    "### Tile (zoom, x, y) to location (lat, lng)"
   ]
  },
  {
   "cell_type": "code",
   "execution_count": null,
   "id": "fd229e66",
   "metadata": {
    "ExecuteTime": {
     "end_time": "2023-08-16T17:03:13.642501Z",
     "start_time": "2023-08-16T17:03:13.626842Z"
    }
   },
   "outputs": [],
   "source": [
    "@auto.mediocreatbest.doctest\n",
    "def convert_tile_coordinates_to_latlng(\n",
    "    *,\n",
    "    z: int,\n",
    "    x: int,\n",
    "    y: int,\n",
    "    math=auto.numpy,\n",
    "    return_google_maps_url: bool=False,\n",
    ") -> Tuple[Degree, Degree]:\n",
    "    r\"\"\"\n",
    "\n",
    "    >>> convert_tile_coordinates_to_latlng(z=15, x=8739, y=12925, return_google_maps_url=True)\n",
    "    'https://www.google.com/maps/@35.48751102385376,-83.990478515625,15.79z?entry=ttu'\n",
    "\n",
    "    \"\"\"\n",
    "    \n",
    "    # Thanks https://gis.stackexchange.com/a/133535\n",
    "    \n",
    "    #> n = 2 ^ zoom\n",
    "    n = 2 ** z\n",
    "    \n",
    "    #> lon_deg = xtile / n * 360.0 - 180.0\n",
    "    lon_deg = x / n * 360.0 - 180.0\n",
    "    \n",
    "    #> lat_rad = arctan(sinh(π * (1 - 2 * ytile / n)))\n",
    "    lat_rad = math.arctan(math.sinh(math.pi * (1.0 - 2.0 * y / n)))\n",
    "    \n",
    "    #> lat_deg = lat_rad * 180.0 / π\n",
    "    lat_deg = lat_rad * 180.0 / math.pi\n",
    "    \n",
    "    if return_google_maps_url:\n",
    "        return f\"\"\"https://www.google.com/maps/@{lat_deg},{lon_deg},15.79z?entry=ttu\"\"\"\n",
    "    \n",
    "    return lat_deg, lon_deg"
   ]
  },
  {
   "cell_type": "markdown",
   "id": "9e5aca25",
   "metadata": {},
   "source": [
    "### Dataclasses"
   ]
  },
  {
   "cell_type": "code",
   "execution_count": null,
   "id": "4fc4294e",
   "metadata": {
    "ExecuteTime": {
     "end_time": "2023-08-16T17:03:13.650011Z",
     "start_time": "2023-08-16T17:03:13.644468Z"
    }
   },
   "outputs": [],
   "source": [
    "@auto.dataclasses.dataclass(eq=True, order=True, frozen=True)\n",
    "class Coord:\n",
    "    \"\"\"Tile image coordinates for mapbox/etc services\"\"\"\n",
    "    z: int\n",
    "    x: int\n",
    "    y: int\n",
    "\n",
    "    @property\n",
    "    def nw(self) -> Location:\n",
    "        \"\"\"North-West lat/lng of current tile\"\"\"\n",
    "        lat, lng = tile_coordinates_to_latlng(\n",
    "            z=self.z,\n",
    "            x=self.x,\n",
    "            y=self.y,\n",
    "        )\n",
    "        return Location(lat=lat, lng=lng)\n",
    "\n",
    "    @property\n",
    "    def se(self) -> Location:\n",
    "        \"\"\"South-East lat/lng of current tile\"\"\"\n",
    "        lat, lng = tile_coordinates_to_latlng(\n",
    "            z=self.z,\n",
    "            x=1+self.x,\n",
    "            y=1+self.y,\n",
    "        )\n",
    "        return Location(lat=lat, lng=lng)"
   ]
  },
  {
   "cell_type": "code",
   "execution_count": null,
   "id": "5fdb5aa8",
   "metadata": {
    "ExecuteTime": {
     "end_time": "2023-08-16T17:03:13.658280Z",
     "start_time": "2023-08-16T17:03:13.651767Z"
    }
   },
   "outputs": [],
   "source": [
    "@auto.dataclasses.dataclass(eq=True, frozen=True)\n",
    "class Domain:\n",
    "    \"\"\"Lower (inclusive) and upper (inclusive) bounds of latitude/longitude\"\"\"\n",
    "    lo: Coord\n",
    "    hi: Coord\n",
    "        \n",
    "    @property\n",
    "    def coords(self) -> List[Coord]:\n",
    "        \"\"\"All coordinates within lower/upper bounds\"\"\"\n",
    "        coords = []\n",
    "        for z, x, y in auto.itertools.product(\n",
    "            range(self.lo.z, 1+self.hi.z),\n",
    "            range(self.lo.x, 1+self.hi.x),\n",
    "            range(self.lo.y, 1+self.hi.y),\n",
    "        ):\n",
    "            coords.append(Coord(\n",
    "                z=z,\n",
    "                x=x,\n",
    "                y=y,\n",
    "            ))\n",
    "        \n",
    "        return coords"
   ]
  },
  {
   "cell_type": "code",
   "execution_count": null,
   "id": "a0bdce30",
   "metadata": {
    "ExecuteTime": {
     "end_time": "2023-08-16T17:03:13.665765Z",
     "start_time": "2023-08-16T17:03:13.660337Z"
    }
   },
   "outputs": [],
   "source": [
    "@auto.dataclasses.dataclass(eq=True, order=True, frozen=True)\n",
    "class Location:\n",
    "    \"\"\"Geographical latitude/longitude\"\"\"\n",
    "    lat: Degree\n",
    "    lng: Degree\n",
    "    alt: Optional[Meter] = auto.dataclasses.field(default=None)"
   ]
  },
  {
   "cell_type": "code",
   "execution_count": null,
   "id": "241550e4",
   "metadata": {
    "ExecuteTime": {
     "end_time": "2023-08-16T17:03:13.675287Z",
     "start_time": "2023-08-16T17:03:13.667775Z"
    }
   },
   "outputs": [],
   "source": [
    "@auto.dataclasses.dataclass(eq=True, order=True, frozen=True)\n",
    "class Point:\n",
    "    x: Kilometer\n",
    "    y: Kilometer\n",
    "    z: Kilometer"
   ]
  },
  {
   "cell_type": "code",
   "execution_count": null,
   "id": "7ddeb72b",
   "metadata": {
    "ExecuteTime": {
     "end_time": "2023-08-16T17:03:13.683984Z",
     "start_time": "2023-08-16T17:03:13.677039Z"
    }
   },
   "outputs": [],
   "source": [
    "# @dispatch\n",
    "@auto.dataclasses.dataclass(eq=True, order=True, frozen=True)\n",
    "class Tixel:\n",
    "    y: int\n",
    "    x: int\n",
    "        \n",
    "    z: ClassVar[int] = 23\n",
    "        \n",
    "    @property\n",
    "    def location(self) -> Location:\n",
    "        \"\"\"Center lat/lng of current tixel\"\"\"\n",
    "        lat, lng = tile_coordinates_to_latlng(\n",
    "            z=1+self.z,\n",
    "            x=1+self.x,\n",
    "            y=1+self.y,\n",
    "        )\n",
    "        return Location(lat=lat, lng=lng)\n",
    "\n",
    "# @Tixel.register\n",
    "# def __tixel_from_coord(coord: Coord, /, *, res: int):\n",
    "#     dz = int(auto.math.log2(Tixel.z - coord.z))\n",
    "    \n",
    "    "
   ]
  },
  {
   "cell_type": "markdown",
   "id": "1bd68ec7",
   "metadata": {},
   "source": [
    "### URL"
   ]
  },
  {
   "cell_type": "code",
   "execution_count": null,
   "id": "20dd9081",
   "metadata": {
    "ExecuteTime": {
     "end_time": "2023-08-16T17:03:13.698189Z",
     "start_time": "2023-08-16T17:03:13.688113Z"
    }
   },
   "outputs": [],
   "source": [
    "@auto.dataclasses.dataclass\n",
    "class TileURL:\n",
    "    scheme: str\n",
    "    netloc: str\n",
    "    prefix: str\n",
    "    z: int\n",
    "    x: int\n",
    "    y: int\n",
    "    suffix: str\n",
    "    query: Dict[str, str]\n",
    "    fragment: str\n",
    "\n",
    "    @classmethod\n",
    "    @auto.mediocreatbest.doctest\n",
    "    def decode(cls, url: str) -> Self:\n",
    "        # r\"\"\"\n",
    "        \n",
    "        # >>> decode(dict, 'https://atlas-stg.geoplatform.gov/styles/v1/atlas-user/ck58pyquo009v01p99xebegr9/tiles/256/11/549/806@2x?access_token=pk.eyJ1IjoiYXRsYXMtdXNlciIsImEiOiJjazFmdGx2bjQwMDAwMG5wZmYwbmJwbmE2In0.lWXK2UexpXuyVitesLdwUg')\n",
    "        # ... # doctest: +NORMALIZE_WHITESPACE\n",
    "        # {'scheme': 'https',\n",
    "        #  'netloc': 'atlas-stg.geoplatform.gov',\n",
    "        #  'prefix': ['', 'styles', 'v1', 'atlas-user', 'ck58pyquo009v01p99xebegr9', 'tiles', '256'],\n",
    "        #  'z': 11,\n",
    "        #  'x': 549,\n",
    "        #  'y': 806,\n",
    "        #  'suffix': '@2x',\n",
    "        #  'query': [('access_token',\n",
    "        #             'pk.eyJ1IjoiYXRsYXMtdXNlciIsImEiOiJjazFmdGx2bjQwMDAwMG5wZmYwbmJwbmE2In0.lWXK2UexpXuyVitesLdwUg')],\n",
    "        #  'fragment': ''}\n",
    "        # >>> decode(dict, 'https://atlas-stg.geoplatform.gov:443/v4/atlas-user.0000214_pink/11/549/806.png?access_token=pk.eyJ1IjoiYXRsYXMtdXNlciIsImEiOiJjazFmdGx2bjQwMDAwMG5wZmYwbmJwbmE2In0.lWXK2UexpXuyVitesLdwUg')\n",
    "        # ... # doctest: +NORMALIZE_WHITESPACE\n",
    "        # {'scheme': 'https',\n",
    "        #  'netloc': 'atlas-stg.geoplatform.gov:443',\n",
    "        #  'prefix': ['', 'v4', 'atlas-user.0000214_pink'],\n",
    "        #  'z': 11,\n",
    "        #  'x': 549,\n",
    "        #  'y': 806,\n",
    "        #  'suffix': '.png',\n",
    "        #  'query': [('access_token',\n",
    "        #             'pk.eyJ1IjoiYXRsYXMtdXNlciIsImEiOiJjazFmdGx2bjQwMDAwMG5wZmYwbmJwbmE2In0.lWXK2UexpXuyVitesLdwUg')],\n",
    "        #  'fragment': ''}\n",
    "        \n",
    "        # \"\"\"\n",
    "        \n",
    "        scheme, netloc, path, query, fragment = auto.urllib.parse.urlsplit(\n",
    "            url,\n",
    "        )\n",
    "        path = path.split('/')\n",
    "        *prefix, z, x, suffix = path\n",
    "        assert (match := auto.re.match(r'^(\\d+)(.*)$', suffix)) is not None, \\\n",
    "            f'{suffix = !r}'\n",
    "        y, suffix = match.groups()\n",
    "            \n",
    "        \n",
    "        z, x, y = map(int, (z, x, y))\n",
    "        query = auto.urllib.parse.parse_qsl(\n",
    "            query,\n",
    "        )\n",
    "\n",
    "\n",
    "        print(f' {x}, {y}, {z}')        \n",
    "        return cls(\n",
    "            scheme=scheme,\n",
    "            netloc=netloc,\n",
    "            prefix=prefix,\n",
    "            z=z,\n",
    "            x=x,\n",
    "            y=y,\n",
    "            suffix=suffix,\n",
    "            query=query,\n",
    "            fragment=fragment,\n",
    "        )\n",
    "\n",
    "    def encode(self) -> str:\n",
    "        query = auto.urllib.parse.urlencode(\n",
    "            self.query,\n",
    "            doseq=True,\n",
    "        )\n",
    "        \n",
    "        z, x, y = map(str, (self.z, self.x, self.y))\n",
    "\n",
    "        path = '/'.join([\n",
    "            *self.prefix,\n",
    "            z,\n",
    "            x,\n",
    "            y + self.suffix,\n",
    "        ])\n",
    "        print(f\"ENCODE: {path}\")\n",
    "\n",
    "        return auto.urllib.parse.urlunsplit((\n",
    "            self.scheme,\n",
    "            self.netloc,\n",
    "            path,\n",
    "            query,\n",
    "            self.fragment,\n",
    "        ))\n",
    "    "
   ]
  },
  {
   "cell_type": "code",
   "execution_count": null,
   "id": "3786e22e",
   "metadata": {},
   "outputs": [],
   "source": []
  },
  {
   "cell_type": "markdown",
   "id": "c59a74de",
   "metadata": {},
   "source": [
    "## HTTP Request Caching"
   ]
  },
  {
   "cell_type": "code",
   "execution_count": null,
   "id": "85a03fb6",
   "metadata": {
    "ExecuteTime": {
     "end_time": "2023-08-16T17:03:13.711428Z",
     "start_time": "2023-08-16T17:03:13.699847Z"
    },
    "scrolled": true
   },
   "outputs": [],
   "source": [
    "@run(once=True)\n",
    "def cache():\n",
    "    path = auto.pathlib.Path.cwd() / 'tmp' / 'Sunrise.shelve'\n",
    "    return auto.shelve.open(str(path), 'c')\n"
   ]
  },
  {
   "cell_type": "code",
   "execution_count": null,
   "id": "7f417f9a",
   "metadata": {
    "ExecuteTime": {
     "end_time": "2023-08-16T17:03:13.718099Z",
     "start_time": "2023-08-16T17:03:13.713068Z"
    }
   },
   "outputs": [],
   "source": [
    "@run\n",
    "def fetch(cache, /):\n",
    "    def fetch(url: str, *, tqdm=None) -> bytes:\n",
    "        key = url\n",
    "        if key not in cache:\n",
    "            if tqdm is not None:\n",
    "                tqdm.set_description(f'Cache Miss: {url}')\n",
    "\n",
    "            with auto.requests.get(url) as r:\n",
    "                r.raise_for_status()\n",
    "                cache[key] = r.content\n",
    "            \n",
    "            auto.time.sleep(1)\n",
    "        \n",
    "        else:\n",
    "            if tqdm is not None:\n",
    "                tqdm.set_description('Cache Hit: {url}')\n",
    "        \n",
    "        return cache[key]\n",
    "\n",
    "    return fetch"
   ]
  },
  {
   "cell_type": "code",
   "execution_count": null,
   "id": "1b2c3662",
   "metadata": {
    "ExecuteTime": {
     "end_time": "2023-08-16T17:03:13.903594Z",
     "start_time": "2023-08-16T17:03:13.897856Z"
    }
   },
   "outputs": [],
   "source": [
    "def __stitch_tiles(tiles, /, size: int=128):\n",
    "    auto.PIL; from PIL import Image\n",
    "    \n",
    "    xs = set(tile.coord.x for tile in tiles)\n",
    "    ys = set(tile.coord.y for tile in tiles)\n",
    "    \n",
    "    xs = sorted(xs)\n",
    "    ys = sorted(ys)\n",
    "    \n",
    "    nx = len(xs)\n",
    "    ny = len(ys)\n",
    "    \n",
    "    sz = size\n",
    "    \n",
    "    composite = Image.new('RGB', (nx*sz, ny*sz))\n",
    "    \n",
    "    for tile in tiles:\n",
    "        xi = xs.index(tile.coord.x)\n",
    "        yi = ys.index(tile.coord.y)\n",
    "        \n",
    "        with auto.io.BytesIO(tile.image) as f:\n",
    "            try:\n",
    "                image = Image.open(f)\n",
    "            except auto.PIL.UnidentifiedImageError:\n",
    "                continue\n",
    "\n",
    "            image.thumbnail((sz, sz))\n",
    "\n",
    "        # composite.paste(image, (xi*sz, yi*sz)) # when not using arcgis\n",
    "        composite.paste(image, (yi*sz, xi*sz)) # flip x's and y's when using arcgis\n",
    "    \n",
    "    return composite"
   ]
  },
  {
   "cell_type": "code",
   "execution_count": null,
   "id": "4f0d0c93",
   "metadata": {
    "ExecuteTime": {
     "end_time": "2023-08-16T17:03:51.396720Z",
     "start_time": "2023-08-16T17:03:51.377473Z"
    },
    "scrolled": true
   },
   "outputs": [],
   "source": [
    "## @Tile.from_.register(Location)\n",
    "@auto.mediocreatbest.doctest\n",
    "def convert_location_to_tile(*, lat: Degree, lng: Degree, zoom: int, math=auto.math) -> tuple[int, int]:\n",
    "    r\"\"\"\n",
    "    \n",
    "    >>> convert_location_to_tile(lat=35.6, lng=-83.52, zoom=11)\n",
    "    (807, 548)\n",
    "    >>> convert_location_to_tile(lat=35.0, lng=-84.5, zoom=15)\n",
    "    (12979, 8692)\n",
    "    >>> convert_location_to_tile(lat=36.25, lng=-82.5, zoom=15)\n",
    "    (12839, 8874)\n",
    "    \n",
    "    \"\"\"\n",
    "    # Thanks https://stackoverflow.com/a/72476578\n",
    "    \n",
    "    #> lat_rad = math.radians(lat_deg)\n",
    "    lat_rad = math.radians(lat)\n",
    "    \n",
    "    #> n = 2.0 ** zoom\n",
    "    n = 2.0 ** zoom\n",
    "    \n",
    "    #> xtile = int((lon_deg + 180.0) / 360.0 * n)\n",
    "    col = int((lng + 180.0) / 360.0 * n)\n",
    "    \n",
    "    #> ytile = int((1.0 - math.asinh(math.tan(lat_rad)) / math.pi) / 2.0 * n)\n",
    "    row = int((1.0 - math.asinh(math.tan(lat_rad)) / math.pi) / 2.0 * n)\n",
    "    \n",
    "    #> return (xtile, ytile)\n",
    "    return row, col\n",
    "\n"
   ]
  },
  {
   "cell_type": "markdown",
   "id": "a7a1caa2",
   "metadata": {},
   "source": [
    "## Earth"
   ]
  },
  {
   "cell_type": "code",
   "execution_count": null,
   "id": "9d499464",
   "metadata": {
    "ExecuteTime": {
     "end_time": "2023-08-16T17:03:51.512973Z",
     "start_time": "2023-08-16T17:03:51.398971Z"
    }
   },
   "outputs": [],
   "source": [
    "@run(after=auto.pprint.pp, scope='earth')\n",
    "def domain():\n",
    "    from bs4 import BeautifulSoup\n",
    "\n",
    "    images = ''\n",
    "    template = '<img alt=\"\" role=\"presentation\" src=\"https://server.arcgisonline.com/ArcGIS/rest/services/World_Imagery/MapServer/tile/{z}/{x}/{y}\" class=\"leaflet-tile leaflet-tile-loaded\" style=\"width: 256px; height: 256px; transform: translate3d(439px, -19px, 0px); opacity: 1;\">'\n",
    "    zoom = 3\n",
    "    for x in range((2 ** zoom)-1):\n",
    "        for y in range((2 ** zoom)-1):\n",
    "            imgurl = template.format(z = zoom, x = x, y = y)\n",
    "            images = images + imgurl\n",
    "            print(imgurl)\n",
    "\n",
    "    \n",
    "    # soup = BeautifulSoup(r'''\n",
    "    #     <img alt=\"\" role=\"presnetation\" src=\"https://server.arcgisonline.com/ArcGIS/rest/services/World_Imagery/MapServer/tile/1/0/0\" class=\"leaflet-tile leaflet-tile-loaded\" style=\"width: 256px; height: 256px; transform: translate3d(439px, -19px, 0px); opacity: 1;\">\n",
    "    #     <img alt=\"\" role=\"presnetation\" src=\"https://server.arcgisonline.com/ArcGIS/rest/services/World_Imagery/MapServer/tile/1/1/0\" class=\"leaflet-tile leaflet-tile-loaded\" style=\"width: 256px; height: 256px; transform: translate3d(439px, -19px, 0px); opacity: 1;\">\n",
    "    #     <img alt=\"\" role=\"presnetation\" src=\"https://server.arcgisonline.com/ArcGIS/rest/services/World_Imagery/MapServer/tile/1/1/1\" class=\"leaflet-tile leaflet-tile-loaded\" style=\"width: 256px; height: 256px; transform: translate3d(439px, -19px, 0px); opacity: 1;\">\n",
    "    #     <img alt=\"\" role=\"presnetation\" src=\"https://server.arcgisonline.com/ArcGIS/rest/services/World_Imagery/MapServer/tile/1/0/1\" class=\"leaflet-tile leaflet-tile-loaded\" style=\"width: 256px; height: 256px; transform: translate3d(439px, -19px, 0px); opacity: 1;\">\n",
    "    # ''', 'html.parser')\n",
    "    soup = BeautifulSoup(images, 'html.parser')\n",
    "    \n",
    "    urls = []\n",
    "    # for img in images:\n",
    "    #     soup = BeautifulSoup(img, 'html.parser')\n",
    "    #     srcsoup = soup('img')\n",
    "    #     src = srcsoup['src']\n",
    "    #     url = TileURL.decode(src)\n",
    "    #     urls.append(url)\n",
    "    for img in soup('img'):\n",
    "        src = img['src']\n",
    "        url = TileURL.decode(src)\n",
    "        urls.append(url)\n",
    "    \n",
    "    return Domain(\n",
    "        lo=Coord(\n",
    "            z=min(url.z for url in urls),\n",
    "            x=min(url.x for url in urls),\n",
    "            y=min(url.y for url in urls),\n",
    "        ),\n",
    "        hi=Coord(\n",
    "            z=max(url.z for url in urls),\n",
    "            x=max(url.x for url in urls),\n",
    "            y=max(url.y for url in urls),\n",
    "        ),\n",
    "    )\n"
   ]
  },
  {
   "cell_type": "code",
   "execution_count": null,
   "id": "1f497d51",
   "metadata": {
    "ExecuteTime": {
     "end_time": "2023-08-16T17:03:51.547423Z",
     "start_time": "2023-08-16T17:03:51.514805Z"
    }
   },
   "outputs": [],
   "source": [
    "@auto.dataclasses.dataclass(eq=True, frozen=True)\n",
    "class Tile:\n",
    "    coord: Coord\n",
    "    url: str = auto.dataclasses.field(repr=False)\n",
    "    image: bytes = auto.dataclasses.field(repr=False)\n",
    "\n",
    "@run(scope='earth', after=lambda x: print(len(x)))\n",
    "def tiles(domain, fetch, /):\n",
    "    def make_url(coord: Coord, /, *, url=TileURL.decode(\n",
    "        # r\"\"\"https://atlas-stg.geoplatform.gov/styles/v1/atlas-user/ck58pyquo009v01p99xebegr9/tiles/256/11/549/806@2x?access_token=pk.eyJ1IjoiYXRsYXMtdXNlciIsImEiOiJjazFmdGx2bjQwMDAwMG5wZmYwbmJwbmE2In0.lWXK2UexpXuyVitesLdwUg\"\"\"\n",
    "        r\"\"\"https://server.arcgisonline.com/ArcGIS/rest/services/World_Imagery/MapServer/tile/0/0/0\"\"\"\n",
    "    )):\n",
    "        return auto.dataclasses.replace(\n",
    "            url,\n",
    "            z=coord.z,\n",
    "            x=coord.x,\n",
    "            y=coord.y,\n",
    "        )\n",
    "    \n",
    "    tiles = []\n",
    "    for coord in (tqdm := auto.tqdm.tqdm(domain.coords)):\n",
    "        url = make_url(coord).encode()\n",
    "        image = fetch(url, tqdm=tqdm)\n",
    "\n",
    "        tiles.append(Tile(\n",
    "            coord=coord,\n",
    "            url=url,\n",
    "            image=image,\n",
    "        ))\n",
    "\n",
    "    return tiles"
   ]
  },
  {
   "cell_type": "code",
   "execution_count": null,
   "id": "5495a0e6",
   "metadata": {
    "ExecuteTime": {
     "end_time": "2023-08-16T17:03:51.557769Z",
     "start_time": "2023-08-16T17:03:51.555441Z"
    }
   },
   "outputs": [],
   "source": [
    "__stitch_tiles(run.g['earth__tiles'])"
   ]
  },
  {
   "cell_type": "code",
   "execution_count": null,
   "id": "9765ff6d",
   "metadata": {
    "ExecuteTime": {
     "end_time": "2023-08-16T17:03:51.701897Z",
     "start_time": "2023-08-16T17:03:51.560168Z"
    }
   },
   "outputs": [],
   "source": [
    "@run(scope='earth')\n",
    "def interpolator(tiles, /):\n",
    "    # res = 512\n",
    "    res = 256\n",
    "    \n",
    "    zs = sorted(set(tile.coord.z for tile in tiles))\n",
    "    assert len(zs) == 1\n",
    "    ys = sorted(set(tile.coord.y for tile in tiles))\n",
    "    xs = sorted(set(tile.coord.x for tile in tiles))\n",
    "    \n",
    "    print(f\"\"\"{len(ys)=!r} {len(xs)=!r}\"\"\")\n",
    "    \n",
    "    # This is cursed.\n",
    "    points = (\n",
    "        2 ** (Tixel.z - auto.math.log2(res) - zs[0]) * (auto.numpy.repeat(res * auto.numpy.array(ys)[:, None], res, axis=1) + auto.numpy.arange(res)[None, :]).ravel(),\n",
    "        2 ** (Tixel.z - auto.math.log2(res) - zs[0]) * (auto.numpy.repeat(res * auto.numpy.array(xs)[:, None], res, axis=1) + auto.numpy.arange(res)[None, :]).ravel(),\n",
    "    )\n",
    "    \n",
    "    print(f\"\"\"ys: {points[0][[0, -1]]=!r}\n",
    "xs: {points[1][[0, -1]]=!r}\"\"\")\n",
    "    \n",
    "    values = auto.numpy.zeros(\n",
    "        shape=(len(points[0]), len(points[1]), 3),\n",
    "        dtype=auto.numpy.float32,\n",
    "    )\n",
    "    print(f\"\"\"{values.shape=!r} {values.dtype=!r}\"\"\")\n",
    "\n",
    "    for tile in tiles:\n",
    "        yi = ys.index(tile.coord.y)\n",
    "        xi = xs.index(tile.coord.x)\n",
    "        \n",
    "        with auto.io.BytesIO(tile.image) as f:\n",
    "            image = auto.PIL.Image.open(f)\n",
    "            image.load()\n",
    "            \n",
    "        image = image.convert('RGB')\n",
    "        image = auto.numpy.array(image, dtype=auto.numpy.float32)\n",
    "        print(f\"\"\"{image.shape=!r} {image.dtype=!r}\"\"\")\n",
    "        assert image.shape == (res, res, 3), image.shape\n",
    "        assert image.dtype == auto.numpy.float32\n",
    "        assert 1.0 < image.max() <= 255.0\n",
    "        \n",
    "        image /= 255.0\n",
    "        assert 0.0 < image.max() <= 1.0\n",
    "        \n",
    "#         import numpy.lib.recfunctions\n",
    "#         image = auto.numpy.lib.recfunctions.unstructured_to_structured(\n",
    "#             image,\n",
    "#             dtype=values.dtype,\n",
    "#         )\n",
    "#         assert image.shape == (res, res), \\\n",
    "#             f\"\"\"Wrong shape: {image.shape=!r}\"\"\"\n",
    "#         assert image.dtype == values.dtype\n",
    "        \n",
    "        values[\n",
    "            slice(\n",
    "                (yi+0)*res,\n",
    "                (yi+1)*res,\n",
    "            ),\n",
    "            slice(\n",
    "                (xi+0)*res,\n",
    "                (xi+1)*res,\n",
    "            ),\n",
    "        ] = image\n",
    "               \n",
    "    \n",
    "    return auto.scipy.interpolate.RegularGridInterpolator(\n",
    "        points,\n",
    "        values,\n",
    "    )"
   ]
  },
  {
   "cell_type": "markdown",
   "id": "a8ea267f",
   "metadata": {},
   "source": [
    "## Elevation"
   ]
  },
  {
   "cell_type": "code",
   "execution_count": null,
   "id": "afb50050",
   "metadata": {
    "ExecuteTime": {
     "end_time": "2023-08-16T17:03:51.779075Z",
     "start_time": "2023-08-16T17:03:51.704783Z"
    }
   },
   "outputs": [],
   "source": [
    "@run(scope='elevation', after=print)\n",
    "def domain():\n",
    "    return Domain(\n",
    "        lo=Coord(z=11, x=546-1, y=805-1),\n",
    "        hi=Coord(z=11, x=551+1, y=808+1),\n",
    "    )\n",
    "\n",
    "@run(scope='elevation')\n",
    "def tiles(domain, fetch, /):\n",
    "    def make_url(coord: Coord, /, *, url=TileURL.decode(\n",
    "        r\"\"\"https://api.mapbox.com/v4/mapbox.terrain-rgb/14/3826/6127@2x.pngraw?access_token=pk.eyJ1IjoidGhvYnNvbjIiLCJhIjoiY2oxZmdqbnQzMDBpbjJxczR6dWoyemUxNiJ9.SEBHSdHLP_lZGD43r-_IDQ\"\"\"\n",
    "    )) -> URL:\n",
    "        return auto.dataclasses.replace(\n",
    "            url,\n",
    "            z=coord.z,\n",
    "            x=coord.x,\n",
    "            y=coord.y,\n",
    "        )\n",
    "    \n",
    "    tiles = []\n",
    "    for coord in (tqdm := auto.tqdm.tqdm(domain.coords)):\n",
    "        url = make_url(coord).encode()\n",
    "        image = fetch(url, tqdm=tqdm)\n",
    "        \n",
    "        tiles.append(Tile(\n",
    "            coord=coord,\n",
    "            url=url,\n",
    "            image=image,\n",
    "        ))\n",
    "    \n",
    "    return tiles"
   ]
  },
  {
   "cell_type": "code",
   "execution_count": null,
   "id": "d110898b",
   "metadata": {
    "ExecuteTime": {
     "end_time": "2023-08-16T17:03:52.358733Z",
     "start_time": "2023-08-16T17:03:51.796226Z"
    }
   },
   "outputs": [],
   "source": [
    "__stitch_tiles(auto.mediocreatbest.g['elevation__tiles'], size=32)"
   ]
  },
  {
   "cell_type": "code",
   "execution_count": null,
   "id": "b6b2b479",
   "metadata": {
    "ExecuteTime": {
     "end_time": "2023-08-16T17:03:52.905833Z",
     "start_time": "2023-08-16T17:03:52.361164Z"
    }
   },
   "outputs": [],
   "source": [
    "@run(scope='elevation')\n",
    "def interpolator(tiles, /):\n",
    "    res = 512\n",
    "    \n",
    "    def tile_altitude(tile: Tile, /) -> auto.numpy.NDArray[auto.numpy.float32]:\n",
    "        with auto.io.BytesIO(tile.image) as f:\n",
    "            image = auto.PIL.Image.open(f)\n",
    "            image.load()\n",
    "        \n",
    "        image = image.convert('RGB')\n",
    "        \n",
    "        rgb = auto.numpy.array(image)\n",
    "        assert len(rgb.shape) == 3, \\\n",
    "            f\"\"\"Expected dimension 3: {rgb.shape=!r}\"\"\"\n",
    "        assert rgb.shape[0] == rgb.shape[1], \\\n",
    "            f\"\"\"Expected square image: {rgb.shape=!r}\"\"\"\n",
    "        assert rgb.shape[0] == res, \\\n",
    "            f\"\"\"Expected resolution: {res}; Got resolution: {rgb.shape[0]}\"\"\"\n",
    "        assert rgb.shape[2] == 3, \\\n",
    "            f\"\"\"Expected last component to be rgb values: {rgb.shape=!r}\"\"\"\n",
    "        assert rgb.dtype == auto.numpy.uint8, \\\n",
    "            f\"\"\"Expected dtype to be uint8_t: {rgb.dtype=!r}\"\"\"\n",
    "        \n",
    "        # Thanks https://docs.mapbox.com/data/tilesets/guides/access-elevation-data/#decode-data\n",
    "        #> elevation = -10000 + (({R} * 256 * 256 + {G} * 256 + {B}) * 0.1)\n",
    "        \n",
    "        altitude = auto.numpy.zeros(\n",
    "            shape=(rgb.shape[0], rgb.shape[1]),\n",
    "            dtype=auto.numpy.float32,\n",
    "        )\n",
    "        \n",
    "        altitude += rgb[:, :, 0] * (1 * 256 * 256)\n",
    "        altitude += rgb[:, :, 1] * (1 * 256)\n",
    "        altitude += rgb[:, :, 2] * (1)\n",
    "        altitude *= 0.1\n",
    "        altitude -= 10000\n",
    "        \n",
    "        return altitude\n",
    "\n",
    "    xs = sorted(set(tile.coord.x for tile in tiles))\n",
    "    ys = sorted(set(tile.coord.y for tile in tiles))\n",
    "    zs = sorted(set(tile.coord.z for tile in tiles))\n",
    "    \n",
    "    assert len(zs) == 1\n",
    "    z ,= zs\n",
    "    \n",
    "    print(f'{z=!r}')\n",
    "    \n",
    "    dz = int(auto.math.log2(res))\n",
    "    print(f'{dz=!r} {res=!r}')\n",
    "    points = (\n",
    "        auto.numpy.arange(\n",
    "            (min(ys) + 0) * 2 ** dz,\n",
    "            (max(ys) + 1) * 2 ** dz,\n",
    "        ),\n",
    "        auto.numpy.arange(\n",
    "            (min(xs) + 0) * 2 ** dz,\n",
    "            (max(xs) + 1) * 2 ** dz,\n",
    "        ),\n",
    "    )\n",
    "    z += dz\n",
    "    print(f'{z=!r}')\n",
    "    \n",
    "    print(f'{points[0][0]=!r}')\n",
    "    print(f'{points[0][-1]=!r}')\n",
    "    \n",
    "    if z < Tixel.z:\n",
    "        dz = Tixel.z - z\n",
    "        print(f'{dz=!r}')\n",
    "        points = (\n",
    "            points[0] * 2 ** dz,\n",
    "            points[1] * 2 ** dz,\n",
    "        )\n",
    "        z += dz\n",
    "        print(f'{z=!r}')\n",
    "        \n",
    "        print(f'{points[0][0]=!r}')\n",
    "        print(f'{points[0][-1]=!r}')\n",
    "    \n",
    "    assert z == Tixel.z\n",
    "    \n",
    "    values = auto.numpy.zeros(\n",
    "        shape=(\n",
    "            len(ys)*res,\n",
    "            len(xs)*res,\n",
    "        ),\n",
    "        dtype=auto.numpy.float32,\n",
    "    )\n",
    "    \n",
    "    for tile in tiles:\n",
    "        xi = xs.index(tile.coord.x)\n",
    "        yi = ys.index(tile.coord.y)\n",
    "        \n",
    "        values[\n",
    "            slice(\n",
    "                (yi + 0) * res,\n",
    "                (yi + 1) * res,\n",
    "            ),\n",
    "            slice(\n",
    "                (xi + 0) * res,\n",
    "                (xi + 1) * res,\n",
    "            ),\n",
    "        ] = tile_altitude(tile)\n",
    "\n",
    "    return auto.scipy.interpolate.RegularGridInterpolator(\n",
    "        points=points,\n",
    "        values=values,\n",
    "    )"
   ]
  },
  {
   "cell_type": "code",
   "execution_count": null,
   "id": "8bfc6b15",
   "metadata": {
    "ExecuteTime": {
     "end_time": "2023-08-16T17:03:53.846206Z",
     "start_time": "2023-08-16T17:03:52.908242Z"
    }
   },
   "outputs": [],
   "source": [
    "auto.mediocreatbest.g['elevation__interpolator']([\n",
    "    auto.mediocreatbest.g['elevation__interpolator'].grid[0][100],\n",
    "    auto.mediocreatbest.g['elevation__interpolator'].grid[1][100],\n",
    "], method='quintic')"
   ]
  },
  {
   "cell_type": "markdown",
   "id": "8e24c44f",
   "metadata": {},
   "source": [
    "## Visualize"
   ]
  },
  {
   "cell_type": "code",
   "execution_count": null,
   "id": "01449241",
   "metadata": {
    "ExecuteTime": {
     "end_time": "2023-08-16T17:28:08.202738Z",
     "start_time": "2023-08-16T17:28:06.107846Z"
    }
   },
   "outputs": [],
   "source": [
    "@run\n",
    "def __visualize(elevation__interpolator, observation__interpolator, earth__interpolator, /):\n",
    "    def visualize(\n",
    "        *,\n",
    "        name: str,\n",
    "        interpolator: auto.scipy.interpolate.RegularGridInterpolator,\n",
    "        num: int,\n",
    "    ):\n",
    "        lat0, lng0 = 35.572785, -83.518351\n",
    "        lat1, lng1 = 35.553081, -83.487097\n",
    "        \n",
    "        r0, c0 = convert_location_to_tile(\n",
    "            lat=lat0,\n",
    "            lng=lng0,\n",
    "            zoom=Tixel.z,\n",
    "        )\n",
    "        \n",
    "        r1, c1 = convert_location_to_tile(\n",
    "            lat=lat1,\n",
    "            lng=lng1,\n",
    "            zoom=Tixel.z,\n",
    "        )\n",
    "        \n",
    "        rlo, rhi = min(r0, r1), max(r0, r1)\n",
    "        clo, chi = min(c0, c1), max(c0, c1)\n",
    "        \n",
    "        rs = auto.numpy.linspace(rlo, rhi, num=num)\n",
    "        cs = auto.numpy.linspace(clo, chi, num=num)\n",
    "        \n",
    "        grid = auto.numpy.hstack(tuple(\n",
    "            v.reshape((-1, 1))\n",
    "            for v in auto.numpy.meshgrid(\n",
    "                rs,\n",
    "                cs,\n",
    "                indexing='ij',\n",
    "            )\n",
    "        ))\n",
    "        assert grid.shape == (len(cs)*len(rs), 2), \\\n",
    "            f\"\"\"Wrong shape: {grid.shape=!r}\"\"\"\n",
    "        \n",
    "        values = interpolator(grid)\n",
    "        values = values.reshape((len(rs), len(cs), -1))\n",
    "        \n",
    "        %matplotlib inline\n",
    "        plt = auto.matplotlib.pyplot\n",
    "        \n",
    "        fig = plt.figure()\n",
    "        ax = fig.add_subplot(111)\n",
    "        im = ax.imshow(values)\n",
    "        ax.set_yticks(auto.numpy.arange(0, len(rs), 5))\n",
    "        ax.set_yticklabels([f'{int(r)}' for r in rs[::5]], rotation=0)\n",
    "        ax.set_xticks(auto.numpy.arange(0, len(cs), 5))\n",
    "        ax.set_xticklabels([f'{int(c)}' for c in cs[::5]], rotation=90)\n",
    "        \n",
    "        ax.set_title(f\"Sample of {name} around Clingman's Dome\")\n",
    "        ax.set_xlabel('Tixel Column Number')\n",
    "        ax.set_ylabel('Tixel Row Number', rotation=90)\n",
    "        \n",
    "        fig.colorbar(im)\n",
    "        fig.tight_layout()\n",
    "        plt.show()\n",
    "    \n",
    "    visualize(\n",
    "        name='elevation',\n",
    "        interpolator=elevation__interpolator,\n",
    "        num=128,\n",
    "    )\n",
    "    \n",
    "    visualize(\n",
    "        name='earth',\n",
    "        interpolator=earth__interpolator,\n",
    "        num=128,\n",
    "    )\n",
    "    "
   ]
  },
  {
   "cell_type": "markdown",
   "id": "ae88466e",
   "metadata": {},
   "source": [
    "### Save"
   ]
  },
  {
   "cell_type": "code",
   "execution_count": null,
   "id": "b22e54fd",
   "metadata": {
    "ExecuteTime": {
     "end_time": "2023-08-16T17:04:15.273285Z",
     "start_time": "2023-08-16T17:03:53.848170Z"
    }
   },
   "outputs": [],
   "source": [
    "@run\n",
    "def __save(elevation__interpolator, observation__interpolator, earth__interpolator, /):\n",
    "    def save(\n",
    "        *,\n",
    "        name: str,\n",
    "        interpolator: auto.scipy.interpolate.RegularGridInterpolator,\n",
    "    ):\n",
    "        path = auto.pathlib.Path.cwd() / 'tmp' / f'{name}.npz'\n",
    "        auto.numpy.savez_compressed(\n",
    "            path,\n",
    "            points0=interpolator.grid[0],\n",
    "            points1=interpolator.grid[1],\n",
    "            values=interpolator.values,\n",
    "        )\n",
    "        \n",
    "        print(f'Wrote {path.stat().st_size :,d} bytes to {path}')\n",
    "    \n",
    "    save(\n",
    "        name='elevation',\n",
    "        interpolator=elevation__interpolator,\n",
    "    )\n",
    "    \n",
    "    save(\n",
    "        name='earth',\n",
    "        interpolator=earth__interpolator,\n",
    "    )\n"
   ]
  },
  {
   "cell_type": "code",
   "execution_count": null,
   "id": "80ed2294",
   "metadata": {},
   "outputs": [],
   "source": []
  }
 ],
 "metadata": {
  "gist": {
   "data": {
    "description": "share/notebooks/Sunrise.ipynb",
    "public": false
   },
   "id": ""
  },
  "hide_input": false,
  "kernelspec": {
   "display_name": "Python 3",
   "language": "python",
   "name": "python3"
  },
  "language_info": {
   "codemirror_mode": {
    "name": "ipython",
    "version": 3
   },
   "file_extension": ".py",
   "mimetype": "text/x-python",
   "name": "python",
   "nbconvert_exporter": "python",
   "pygments_lexer": "ipython3",
   "version": "3.10.12"
  },
  "nbTranslate": {
   "displayLangs": [
    "*"
   ],
   "hotkey": "alt-t",
   "langInMainMenu": true,
   "sourceLang": "en",
   "targetLang": "fr",
   "useGoogleTranslate": true
  },
  "toc": {
   "base_numbering": 1,
   "nav_menu": {
    "height": "539px",
    "width": "751px"
   },
   "number_sections": true,
   "sideBar": true,
   "skip_h1_title": false,
   "title_cell": "Table of Contents",
   "title_sidebar": "Contents",
   "toc_cell": false,
   "toc_position": {
    "height": "calc(100% - 180px)",
    "left": "10px",
    "top": "150px",
    "width": "265.4px"
   },
   "toc_section_display": true,
   "toc_window_display": false
  },
  "varInspector": {
   "cols": {
    "lenName": 16,
    "lenType": 16,
    "lenVar": 40
   },
   "kernels_config": {
    "python": {
     "delete_cmd_postfix": "",
     "delete_cmd_prefix": "del ",
     "library": "var_list.py",
     "varRefreshCmd": "print(var_dic_list())"
    },
    "r": {
     "delete_cmd_postfix": ") ",
     "delete_cmd_prefix": "rm(",
     "library": "var_list.r",
     "varRefreshCmd": "cat(var_dic_list()) "
    }
   },
   "types_to_exclude": [
    "module",
    "function",
    "builtin_function_or_method",
    "instance",
    "_Feature"
   ],
   "window_display": false
  }
 },
 "nbformat": 4,
 "nbformat_minor": 5
}
